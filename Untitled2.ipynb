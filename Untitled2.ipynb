{
  "nbformat": 4,
  "nbformat_minor": 0,
  "metadata": {
    "colab": {
      "provenance": [],
      "authorship_tag": "ABX9TyPvt3PA+5pC0XVP62pI3TRS",
      "include_colab_link": true
    },
    "kernelspec": {
      "name": "python3",
      "display_name": "Python 3"
    },
    "language_info": {
      "name": "python"
    }
  },
  "cells": [
    {
      "cell_type": "markdown",
      "metadata": {
        "id": "view-in-github",
        "colab_type": "text"
      },
      "source": [
        "<a href=\"https://colab.research.google.com/github/Georgiiliwe8pcr/12hw/blob/main/Untitled2.ipynb\" target=\"_parent\"><img src=\"https://colab.research.google.com/assets/colab-badge.svg\" alt=\"Open In Colab\"/></a>"
      ]
    },
    {
      "cell_type": "code",
      "execution_count": null,
      "metadata": {
        "id": "Cix3A_tx7-ZM"
      },
      "outputs": [],
      "source": [
        "import tensorflow as tf\n",
        "from tensorflow.keras import layers, models\n",
        "from tensorflow.keras.applications import VGG16\n",
        "from tensorflow.keras.datasets import fashion_mnist\n",
        "from tensorflow.keras.utils import to_categorical\n",
        "import keras_tuner as kt\n",
        "import matplotlib.pyplot as plt\n",
        "\n",
        "# Завантаження даних\n",
        "(x_train, y_train), (x_test, y_test) = fashion_mnist.load_data()\n",
        "\n",
        "# Попередня обробка даних\n",
        "x_train = x_train.reshape((x_train.shape[0], 28, 28, 1)).astype('float32') / 255\n",
        "x_test = x_test.reshape((x_test.shape[0], 28, 28, 1)).astype('float32') / 255\n",
        "x_train = tf.image.resize(x_train, (32, 32))  # Зміна розміру для VGG16\n",
        "x_test = tf.image.resize(x_test, (32, 32))\n",
        "y_train = to_categorical(y_train, 10)\n",
        "y_test = to_categorical(y_test, 10)\n",
        "\n",
        "# Побудова моделі для тюнера\n",
        "def build_model(hp):\n",
        "    model = models.Sequential()\n",
        "    model.add(layers.Flatten(input_shape=(32, 32, 1)))\n",
        "    model.add(layers.Dense(hp.Int('units_layer_1', min_value=64, max_value=512, step=64), activation='relu'))\n",
        "    model.add(layers.Dropout(hp.Float('dropout_layer_1', min_value=0.2, max_value=0.5, step=0.1)))\n",
        "    model.add(layers.Dense(hp.Int('units_layer_2', min_value=64, max_value=512, step=64), activation='relu'))\n",
        "    model.add(layers.Dropout(hp.Float('dropout_layer_2', min_value=0.2, max_value=0.5, step=0.1)))\n",
        "    model.add(layers.Dense(10, activation='softmax'))\n",
        "    model.compile(optimizer=tf.keras.optimizers.Adam(hp.Choice('learning_rate', [1e-2, 1e-3, 1e-4])),\n",
        "                  loss='categorical_crossentropy',\n",
        "                  metrics=['accuracy'])\n",
        "    return model\n",
        "\n",
        "# Налаштування тюнера\n",
        "tuner = kt.Hyperband(\n",
        "    build_model,\n",
        "    objective='val_accuracy',\n",
        "    max_epochs=10,\n",
        "    factor=3,\n",
        "    directory='my_dir',\n",
        "    project_name='fashion_mnist_tuning')\n",
        "\n",
        "# Виклик тюнера\n",
        "def tuner_callback():\n",
        "    return tf.keras.callbacks.EarlyStopping(monitor='val_loss', patience=3)\n",
        "\n",
        "tuner.search(x_train, y_train, epochs=10, validation_split=0.2, callbacks=[tuner_callback()])\n",
        "\n",
        "# Отримання найкращих параметрів\n",
        "best_hps = tuner.get_best_hyperparameters(num_trials=1)[0]\n",
        "print(f\"Найкращі параметри: Кількість нейронів 1-го шару - {best_hps.get('units_layer_1')}, \"\n",
        "      f\"Dropout 1-го шару - {best_hps.get('dropout_layer_1')}, \"\n",
        "      f\"Кількість нейронів 2-го шару - {best_hps.get('units_layer_2')}, \"\n",
        "      f\"Dropout 2-го шару - {best_hps.get('dropout_layer_2')}, \"\n",
        "      f\"Швидкість навчання - {best_hps.get('learning_rate')}.\")\n",
        "\n",
        "# Побудова та навчання найкращої моделі\n",
        "model = tuner.hypermodel.build(best_hps)\n",
        "history = model.fit(x_train, y_train, epochs=20, validation_split=0.2, callbacks=[tuner_callback()])\n",
        "\n",
        "# Оцінка моделі\n",
        "test_loss, test_acc = model.evaluate(x_test, y_test, verbose=2)\n",
        "print(f\"\\nТочність на тестових даних: {test_acc:.2f}\")\n",
        "\n",
        "# Візуалізація процесу навчання\n",
        "plt.plot(history.history['accuracy'], label='Точність на тренуванні')\n",
        "plt.plot(history.history['val_accuracy'], label='Точність на валідації')\n",
        "plt.xlabel('Епоха')\n",
        "plt.ylabel('Точність')\n",
        "plt.legend()\n",
        "plt.show()\n",
        "\n",
        "# Висновки\n",
        "print(\"Модель досягла високої точності завдяки оптимізації гіперпараметрів за допомогою Keras Tuner.\")\n"
      ]
    }
  ]
}